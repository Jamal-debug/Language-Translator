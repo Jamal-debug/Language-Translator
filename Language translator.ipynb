{
 "cells": [
  {
   "cell_type": "code",
   "execution_count": 1,
   "id": "846528a1-3127-42b6-b6d0-e39ae5efbce2",
   "metadata": {},
   "outputs": [],
   "source": [
    "#import useful libraries\n",
    "from tkinter import *\n",
    "from googletrans import Translator, LANGUAGES"
   ]
  },
  {
   "cell_type": "code",
   "execution_count": 3,
   "id": "fa64a73d-fbe9-4ef0-a697-23f1e6566ac2",
   "metadata": {},
   "outputs": [
    {
     "data": {
      "text/plain": [
       "''"
      ]
     },
     "execution_count": 3,
     "metadata": {},
     "output_type": "execute_result"
    }
   ],
   "source": [
    "root= Tk()\n",
    "root.geometry('900x320')\n",
    "root.resizable(0,0)\n",
    "root['bg']=\"light steel blue\" \n",
    "root.title(\"Language Translator\")\n",
    "root.iconbitmap(\"amu_logo.ico\")\n",
    "Label(root,text=\"English-Hindi Translator\",font=\"futuristic 20 bold\",bg=\"light steel blue\").place(x=260,y=5)\n",
    "Label(root,text=\"Enter text\",font=\"futuristic 13 bold\",bg=\"light steel blue\").place(x=30,y=90)\n",
    "root.wm_attributes('-transparentcolor','light grey')"
   ]
  },
  {
   "cell_type": "code",
   "execution_count": 5,
   "id": "9a8d9eef-9a78-4579-89b2-ffbb56d7d239",
   "metadata": {},
   "outputs": [
    {
     "data": {
      "text/plain": [
       "''"
      ]
     },
     "execution_count": 5,
     "metadata": {},
     "output_type": "execute_result"
    }
   ],
   "source": [
    "input_text=Text(root, width=45, height=8,padx=5,pady=5) \n",
    "input_text.place(x=30,y=120)\n",
    "input_text.get(\"1.0\", \"end-1c\")"
   ]
  },
  {
   "cell_type": "code",
   "execution_count": null,
   "id": "53a5aa8f-3e11-4f05-8e38-af155e045123",
   "metadata": {},
   "outputs": [],
   "source": [
    "Label(root,text=\"Output\",font=\"futuristic 13 bold\",bg=\"light steel blue\").place(x=500,y=90)\n",
    "output_text=Text(root,font=\"futuristic 10\",height=8,wrap=WORD,padx=5,pady=5,width=50)\n",
    "output_text.place(x=500,y=120)\n",
    "def Translate():\n",
    "    translator=Translator()\n",
    "    text_content = input_text.get(\"1.0\", \"end-1c\")\n",
    "    translated=translator.translate(text=text_content,dest=\"hi\")\n",
    "    output_text.delete(1.0,END)\n",
    "    output_text.insert(END,translated.text)\n",
    "trans_button=Button(root,text=\"TRANSLATE\",font=\"futuristic 13 bold\",command=Translate,bg=\"orange\",activebackground=\"green\")\n",
    "trans_button.place(x=395,y=275)\n",
    "root.mainloop()"
   ]
  },
  {
   "cell_type": "code",
   "execution_count": null,
   "id": "83362be0-834e-422f-90b0-1be5e818e31a",
   "metadata": {},
   "outputs": [],
   "source": []
  },
  {
   "cell_type": "code",
   "execution_count": null,
   "id": "95d7c0a5-b358-4fc5-942f-798bc4abeb3a",
   "metadata": {},
   "outputs": [],
   "source": []
  }
 ],
 "metadata": {
  "kernelspec": {
   "display_name": "Python 3 (ipykernel)",
   "language": "python",
   "name": "python3"
  },
  "language_info": {
   "codemirror_mode": {
    "name": "ipython",
    "version": 3
   },
   "file_extension": ".py",
   "mimetype": "text/x-python",
   "name": "python",
   "nbconvert_exporter": "python",
   "pygments_lexer": "ipython3",
   "version": "3.12.4"
  }
 },
 "nbformat": 4,
 "nbformat_minor": 5
}
